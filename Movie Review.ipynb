{
 "cells": [
  {
   "cell_type": "markdown",
   "id": "b0fdce31-93d0-44fe-8378-f91766cc9e4a",
   "metadata": {},
   "source": [
    "# Movie Review Sentiment Analysis Using LSTM\n",
    "\n",
    "## Introduction\n",
    "\n",
    "This project focuses on building a Recurrent Neural Network (RNN) using Long Short-Term Memory (LSTM) units to analyze movie reviews and determine the sentiment expressed in the text. Sentiment analysis is a natural language processing task that classifies text based on the emotional tone, which can be broadly categorized as positive or negative.\n",
    "\n",
    "The dataset consists of movie reviews and their corresponding sentiment labels:\n",
    "- **Review**: The text of the movie review.\n",
    "- **Sentiment**: The label indicating whether the review is positive (1) or negative (0).\n",
    "\n",
    "By leveraging LSTM layers, which are designed to capture dependencies and patterns over time, the model can effectively analyze the sequential nature of the review text and predict the associated sentiment.\n",
    "\n",
    "### Objectives:\n",
    "- Build and train an LSTM-based model to classify movie reviews as positive or negative.\n",
    "- Preprocess the text data, including tokenization and padding.\n",
    "- Evaluate the model’s performance using metrics like accuracy and loss.\n",
    "\n",
    "This project showcases the application of LSTMs in sentiment analysis, providing a robust method for understanding and classifying textual data based on the sentiment expressed."
   ]
  },
  {
   "cell_type": "code",
   "execution_count": 1,
   "id": "937861ff-214c-42b0-8b55-b566a3441246",
   "metadata": {},
   "outputs": [],
   "source": [
    "import numpy as np \n",
    "import pandas as pd \n",
    "import matplotlib.pyplot as plt\n",
    "import seaborn as sns"
   ]
  },
  {
   "cell_type": "code",
   "execution_count": 23,
   "id": "5113105a-2e02-4217-b712-23a6432022c3",
   "metadata": {},
   "outputs": [],
   "source": [
    "from sklearn.model_selection import train_test_split"
   ]
  },
  {
   "cell_type": "code",
   "execution_count": 2,
   "id": "e5c16b89-452c-4a1d-aeb7-ffa66add1636",
   "metadata": {},
   "outputs": [],
   "source": [
    "df = pd.read_csv('movie_data.csv')"
   ]
  },
  {
   "cell_type": "code",
   "execution_count": 3,
   "id": "1f83f7ab-3460-43fa-ae05-3a38e2be62ec",
   "metadata": {},
   "outputs": [
    {
     "name": "stdout",
     "output_type": "stream",
     "text": [
      "<class 'pandas.core.frame.DataFrame'>\n",
      "RangeIndex: 49969 entries, 0 to 49968\n",
      "Data columns (total 2 columns):\n",
      " #   Column     Non-Null Count  Dtype \n",
      "---  ------     --------------  ----- \n",
      " 0   review     49969 non-null  object\n",
      " 1   sentiment  49969 non-null  int64 \n",
      "dtypes: int64(1), object(1)\n",
      "memory usage: 780.9+ KB\n"
     ]
    }
   ],
   "source": [
    "df.info()"
   ]
  },
  {
   "cell_type": "code",
   "execution_count": 4,
   "id": "4e5f31f8-e945-44f6-8c13-e9d60481023f",
   "metadata": {},
   "outputs": [
    {
     "data": {
      "text/html": [
       "<div>\n",
       "<style scoped>\n",
       "    .dataframe tbody tr th:only-of-type {\n",
       "        vertical-align: middle;\n",
       "    }\n",
       "\n",
       "    .dataframe tbody tr th {\n",
       "        vertical-align: top;\n",
       "    }\n",
       "\n",
       "    .dataframe thead th {\n",
       "        text-align: right;\n",
       "    }\n",
       "</style>\n",
       "<table border=\"1\" class=\"dataframe\">\n",
       "  <thead>\n",
       "    <tr style=\"text-align: right;\">\n",
       "      <th></th>\n",
       "      <th>sentiment</th>\n",
       "    </tr>\n",
       "  </thead>\n",
       "  <tbody>\n",
       "    <tr>\n",
       "      <th>count</th>\n",
       "      <td>49969.000000</td>\n",
       "    </tr>\n",
       "    <tr>\n",
       "      <th>mean</th>\n",
       "      <td>0.499950</td>\n",
       "    </tr>\n",
       "    <tr>\n",
       "      <th>std</th>\n",
       "      <td>0.500005</td>\n",
       "    </tr>\n",
       "    <tr>\n",
       "      <th>min</th>\n",
       "      <td>0.000000</td>\n",
       "    </tr>\n",
       "    <tr>\n",
       "      <th>25%</th>\n",
       "      <td>0.000000</td>\n",
       "    </tr>\n",
       "    <tr>\n",
       "      <th>50%</th>\n",
       "      <td>0.000000</td>\n",
       "    </tr>\n",
       "    <tr>\n",
       "      <th>75%</th>\n",
       "      <td>1.000000</td>\n",
       "    </tr>\n",
       "    <tr>\n",
       "      <th>max</th>\n",
       "      <td>1.000000</td>\n",
       "    </tr>\n",
       "  </tbody>\n",
       "</table>\n",
       "</div>"
      ],
      "text/plain": [
       "          sentiment\n",
       "count  49969.000000\n",
       "mean       0.499950\n",
       "std        0.500005\n",
       "min        0.000000\n",
       "25%        0.000000\n",
       "50%        0.000000\n",
       "75%        1.000000\n",
       "max        1.000000"
      ]
     },
     "execution_count": 4,
     "metadata": {},
     "output_type": "execute_result"
    }
   ],
   "source": [
    "df.describe()"
   ]
  },
  {
   "cell_type": "code",
   "execution_count": 5,
   "id": "3efe102d-d4d7-40b9-b596-46b50265b530",
   "metadata": {},
   "outputs": [
    {
     "data": {
      "text/html": [
       "<div>\n",
       "<style scoped>\n",
       "    .dataframe tbody tr th:only-of-type {\n",
       "        vertical-align: middle;\n",
       "    }\n",
       "\n",
       "    .dataframe tbody tr th {\n",
       "        vertical-align: top;\n",
       "    }\n",
       "\n",
       "    .dataframe thead th {\n",
       "        text-align: right;\n",
       "    }\n",
       "</style>\n",
       "<table border=\"1\" class=\"dataframe\">\n",
       "  <thead>\n",
       "    <tr style=\"text-align: right;\">\n",
       "      <th></th>\n",
       "      <th>review</th>\n",
       "      <th>sentiment</th>\n",
       "    </tr>\n",
       "  </thead>\n",
       "  <tbody>\n",
       "    <tr>\n",
       "      <th>0</th>\n",
       "      <td>This movie is just crap. Even though the direc...</td>\n",
       "      <td>0</td>\n",
       "    </tr>\n",
       "    <tr>\n",
       "      <th>1</th>\n",
       "      <td>Another detailed work on the subject by Dr Dwi...</td>\n",
       "      <td>1</td>\n",
       "    </tr>\n",
       "    <tr>\n",
       "      <th>2</th>\n",
       "      <td>THE CAT O'NINE TAILS (Il Gatto a Nove Code) &lt;b...</td>\n",
       "      <td>0</td>\n",
       "    </tr>\n",
       "    <tr>\n",
       "      <th>3</th>\n",
       "      <td>Like with any movie genre, there are good gang...</td>\n",
       "      <td>0</td>\n",
       "    </tr>\n",
       "    <tr>\n",
       "      <th>4</th>\n",
       "      <td>I watched it with my mom and we were like...&lt;b...</td>\n",
       "      <td>0</td>\n",
       "    </tr>\n",
       "  </tbody>\n",
       "</table>\n",
       "</div>"
      ],
      "text/plain": [
       "                                              review  sentiment\n",
       "0  This movie is just crap. Even though the direc...          0\n",
       "1  Another detailed work on the subject by Dr Dwi...          1\n",
       "2  THE CAT O'NINE TAILS (Il Gatto a Nove Code) <b...          0\n",
       "3  Like with any movie genre, there are good gang...          0\n",
       "4  I watched it with my mom and we were like...<b...          0"
      ]
     },
     "execution_count": 5,
     "metadata": {},
     "output_type": "execute_result"
    }
   ],
   "source": [
    "df.head()"
   ]
  },
  {
   "cell_type": "code",
   "execution_count": 6,
   "id": "adff890d-c75f-41ae-9e6e-599c945727fd",
   "metadata": {},
   "outputs": [
    {
     "data": {
      "text/plain": [
       "review       0\n",
       "sentiment    0\n",
       "dtype: int64"
      ]
     },
     "execution_count": 6,
     "metadata": {},
     "output_type": "execute_result"
    }
   ],
   "source": [
    "df.isna().sum()"
   ]
  },
  {
   "cell_type": "code",
   "execution_count": 7,
   "id": "46052d09-590a-4720-8de9-eefcd1544442",
   "metadata": {},
   "outputs": [
    {
     "data": {
      "text/plain": [
       "418"
      ]
     },
     "execution_count": 7,
     "metadata": {},
     "output_type": "execute_result"
    }
   ],
   "source": [
    "df.duplicated().sum()"
   ]
  },
  {
   "cell_type": "code",
   "execution_count": 8,
   "id": "fb9c8968-fde7-4493-b244-83038fb9a77d",
   "metadata": {},
   "outputs": [],
   "source": [
    "df.drop_duplicates(inplace= True, keep = 'first')"
   ]
  },
  {
   "cell_type": "code",
   "execution_count": 9,
   "id": "285fed94-887f-44e4-9cee-76fbcf200e67",
   "metadata": {},
   "outputs": [],
   "source": [
    "label_counts = df['sentiment'].value_counts()"
   ]
  },
  {
   "cell_type": "code",
   "execution_count": 10,
   "id": "d7c79bbf-3c62-4d7f-b9f1-1ec43c8caa3e",
   "metadata": {},
   "outputs": [
    {
     "name": "stdout",
     "output_type": "stream",
     "text": [
      "sentiment\n",
      "1    24866\n",
      "0    24685\n",
      "Name: count, dtype: int64\n"
     ]
    }
   ],
   "source": [
    "print(label_counts)"
   ]
  },
  {
   "cell_type": "code",
   "execution_count": 11,
   "id": "a46ac16b-799d-4095-8fd0-7577cc65c366",
   "metadata": {},
   "outputs": [
    {
     "data": {
      "image/png": "[encoded data removed]",
      "text/plain": [
       "<Figure size 640x480 with 1 Axes>"
      ]
     },
     "metadata": {},
     "output_type": "display_data"
    }
   ],
   "source": [
    "sns.countplot(x='sentiment', data=df)\n",
    "plt.title('Distribution of Positive and Negative Reviews')\n",
    "plt.show()"
   ]
  },
  {
   "cell_type": "code",
   "execution_count": 12,
   "id": "8e024d41-55ec-489c-ac2a-cc926b9d8743",
   "metadata": {},
   "outputs": [],
   "source": [
    "df_sample = df.sample(n=10000, random_state=42)"
   ]
  },
  {
   "cell_type": "code",
   "execution_count": 13,
   "id": "77b69578-a8cf-41c1-9ff6-3ee1fa1d2dbf",
   "metadata": {},
   "outputs": [
    {
     "data": {
      "image/png": "[encoded data removed]",
      "text/plain": [
       "<Figure size 1400x600 with 2 Axes>"
      ]
     },
     "metadata": {},
     "output_type": "display_data"
    }
   ],
   "source": [
    "label_counts = df_sample['sentiment'].value_counts()\n",
    "\n",
    "fig, axes = plt.subplots(1, 2, figsize=(14, 6))\n",
    "\n",
    "\n",
    "sns.countplot(y='sentiment', data=df_sample, ax=axes[0],hue='sentiment') \n",
    "axes[0].set_title('Horizontal Count Plot of Sentiments')\n",
    "axes[0].set_xlabel('Count')\n",
    "axes[0].set_ylabel('Sentiment')\n",
    "\n",
    "\n",
    "axes[1].pie(label_counts, labels=label_counts.index, autopct='%1.1f%%', startangle=90, colors=['skyblue', 'lightgreen'])\n",
    "axes[1].set_title('Pie Chart of Sentiment Distribution')\n",
    "\n",
    "plt.tight_layout()\n",
    "plt.show()"
   ]
  },
  {
   "cell_type": "code",
   "execution_count": 14,
   "id": "8201f32f-2609-490b-a747-e9007ebbc722",
   "metadata": {},
   "outputs": [],
   "source": [
    "import nltk\n",
    "import re\n",
    "from nltk.corpus import stopwords\n",
    "from nltk.tokenize import word_tokenize\n",
    "from nltk.stem import WordNetLemmatizer"
   ]
  },
  {
   "cell_type": "code",
   "execution_count": 15,
   "id": "cc2375d2-406a-4da4-860b-4fa46daacb7b",
   "metadata": {},
   "outputs": [],
   "source": [
    "def preprocess(sentence):\n",
    "    #removes all the special characters and split the sentence at spaces\n",
    "    text = re.sub(r\"[^a-zA-Z0-9]\",\" \",sentence).split()\n",
    "    \n",
    "    # converts words to lowercase and removes any stopwords\n",
    "    words = [x.lower() for x in text if x not in stopwords.words('english')]\n",
    "    \n",
    "    # Lemmatize the words\n",
    "    lemma = WordNetLemmatizer()\n",
    "    word = [lemma.lemmatize(word,'v') for word in words ]\n",
    "    \n",
    "    # convert the list of words back into a sentence\n",
    "    word = ' '.join(word)\n",
    "    return word"
   ]
  },
  {
   "cell_type": "code",
   "execution_count": 17,
   "id": "ffdb6d0c-2573-4f30-872a-817501411dcf",
   "metadata": {},
   "outputs": [],
   "source": [
    "df_sample['review'] = df_sample['review'].apply(preprocess)"
   ]
  },
  {
   "cell_type": "code",
   "execution_count": 18,
   "id": "b4d991b1-b20b-415e-8245-49270315d9a5",
   "metadata": {},
   "outputs": [
    {
     "data": {
      "text/plain": [
       "11824    although stardust seem fantasy film predictabl...\n",
       "9296     like lot people i love original american graff...\n",
       "31513    this movie amaze tribute whoever go type pain ...\n",
       "45260    i saw movie thursdays night really bore day i ...\n",
       "21627    this pretty good movie i love fighter jet movi...\n",
       "Name: review, dtype: object"
      ]
     },
     "execution_count": 18,
     "metadata": {},
     "output_type": "execute_result"
    }
   ],
   "source": [
    "df_sample['review'].head()"
   ]
  },
  {
   "cell_type": "code",
   "execution_count": 19,
   "id": "d0735b8a-f3c5-4f22-ba34-3e55e518e86a",
   "metadata": {},
   "outputs": [],
   "source": [
    "X=df_sample['review']"
   ]
  },
  {
   "cell_type": "code",
   "execution_count": 20,
   "id": "fa83328c-d058-4bd9-8bd1-9ee4357c0210",
   "metadata": {},
   "outputs": [],
   "source": [
    "y=df_sample['sentiment']"
   ]
  },
  {
   "cell_type": "code",
   "execution_count": 24,
   "id": "dbefd303-f507-42e0-949a-b18b71a41989",
   "metadata": {},
   "outputs": [],
   "source": [
    "X_train, X_test, y_train, y_test = train_test_split(X,y, test_size = 0.20)"
   ]
  },
  {
   "cell_type": "code",
   "execution_count": 21,
   "id": "da18ae21-2597-4637-adf1-bf1938714a84",
   "metadata": {},
   "outputs": [],
   "source": [
    "from keras.preprocessing.text import Tokenizer\n",
    "from keras.preprocessing.sequence import pad_sequences "
   ]
  },
  {
   "cell_type": "code",
   "execution_count": 25,
   "id": "8f2d7a8c-20ac-44aa-8e8a-b90d29b0d06d",
   "metadata": {},
   "outputs": [],
   "source": [
    "tokenizer = Tokenizer(num_words=5000)"
   ]
  },
  {
   "cell_type": "code",
   "execution_count": 26,
   "id": "a1d21e0e-2ce0-4e5f-9395-868f2cf61614",
   "metadata": {},
   "outputs": [],
   "source": [
    "tokenizer.fit_on_texts(X_train)"
   ]
  },
  {
   "cell_type": "code",
   "execution_count": 27,
   "id": "2b4e6a3a-dce1-422f-9b78-1610870b3b62",
   "metadata": {},
   "outputs": [],
   "source": [
    "vocab_size = len(tokenizer.word_index) + 1"
   ]
  },
  {
   "cell_type": "code",
   "execution_count": 28,
   "id": "0dc7b02f-2c35-4c94-b84e-4eff6aefee2a",
   "metadata": {},
   "outputs": [],
   "source": [
    "def text_encoding(txt):\n",
    "    # texts_to_sequences Transforms each text in texts to a sequence of integers.\n",
    "    encoded_docs = tokenizer.texts_to_sequences(txt)\n",
    "    \n",
    "    # pad_sequences is used to ensure that all sequences in a list have the same length.\n",
    "    padded_sequence = pad_sequences(encoded_docs, maxlen=128)    \n",
    "       \n",
    "    return padded_sequence"
   ]
  },
  {
   "cell_type": "code",
   "execution_count": 29,
   "id": "3dfeac94-5a60-43d7-960b-a9cc2e731b9b",
   "metadata": {},
   "outputs": [],
   "source": [
    "X_train = text_encoding(X_train)\n",
    "X_test = text_encoding(X_test)"
   ]
  },
  {
   "cell_type": "code",
   "execution_count": 30,
   "id": "8f15fa4a-c8f8-4e96-b767-375f9996ce3e",
   "metadata": {},
   "outputs": [],
   "source": [
    "from keras import Sequential\n",
    "from keras import layers"
   ]
  },
  {
   "cell_type": "code",
   "execution_count": 31,
   "id": "a0e633d1-1120-4354-9894-929f127b4959",
   "metadata": {},
   "outputs": [
    {
     "name": "stderr",
     "output_type": "stream",
     "text": [
      "2024-10-20 17:21:35.421632: I metal_plugin/src/device/metal_device.cc:1154] Metal device set to: Apple M2\n",
      "2024-10-20 17:21:35.421674: I metal_plugin/src/device/metal_device.cc:296] systemMemory: 8.00 GB\n",
      "2024-10-20 17:21:35.421694: I metal_plugin/src/device/metal_device.cc:313] maxCacheSize: 2.67 GB\n",
      "2024-10-20 17:21:35.422616: I tensorflow/core/common_runtime/pluggable_device/pluggable_device_factory.cc:303] Could not identify NUMA node of platform GPU ID 0, defaulting to 0. Your kernel may not have been built with NUMA support.\n",
      "2024-10-20 17:21:35.422918: I tensorflow/core/common_runtime/pluggable_device/pluggable_device_factory.cc:269] Created TensorFlow device (/job:localhost/replica:0/task:0/device:GPU:0 with 0 MB memory) -> physical PluggableDevice (device: 0, name: METAL, pci bus id: <undefined>)\n"
     ]
    }
   ],
   "source": [
    "model = Sequential()\n",
    "### Embedding layer\n",
    "model.add(layers.Embedding(vocab_size, 128))\n",
    "\n",
    "### Lstm layer\n",
    "### return_sequences: Whether to return the last output in the output sequence, or the full sequence.\n",
    "model.add(layers.LSTM(128,  return_sequences=True))\n",
    "model.add(layers.Dropout(0.2))\n",
    "model.add(layers.LSTM(128))\n",
    "model.add(layers.Dense(64, activation = 'relu'))\n",
    "model.add(layers.Dropout(0.2))\n",
    "\n",
    "model.add(layers.Dense(1, activation='sigmoid'))"
   ]
  },
  {
   "cell_type": "code",
   "execution_count": 32,
   "id": "001e5e9d-1b80-493d-8f08-7092f213cdcc",
   "metadata": {},
   "outputs": [
    {
     "name": "stdout",
     "output_type": "stream",
     "text": [
      "Model: \"sequential\"\n",
      "_________________________________________________________________\n",
      " Layer (type)                Output Shape              Param #   \n",
      "=================================================================\n",
      " embedding (Embedding)       (None, None, 128)         5123456   \n",
      "                                                                 \n",
      " lstm (LSTM)                 (None, None, 128)         131584    \n",
      "                                                                 \n",
      " dropout (Dropout)           (None, None, 128)         0         \n",
      "                                                                 \n",
      " lstm_1 (LSTM)               (None, 128)               131584    \n",
      "                                                                 \n",
      " dense (Dense)               (None, 64)                8256      \n",
      "                                                                 \n",
      " dropout_1 (Dropout)         (None, 64)                0         \n",
      "                                                                 \n",
      " dense_1 (Dense)             (None, 1)                 65        \n",
      "                                                                 \n",
      "=================================================================\n",
      "Total params: 5394945 (20.58 MB)\n",
      "Trainable params: 5394945 (20.58 MB)\n",
      "Non-trainable params: 0 (0.00 Byte)\n",
      "_________________________________________________________________\n"
     ]
    }
   ],
   "source": [
    "model.summary()"
   ]
  },
  {
   "cell_type": "code",
   "execution_count": 33,
   "id": "e1d6041f-1269-4960-a8cc-61dae11aedc0",
   "metadata": {},
   "outputs": [],
   "source": [
    "model.compile(loss = 'binary_crossentropy', optimizer = 'adam', metrics = ['accuracy'])"
   ]
  },
  {
   "cell_type": "code",
   "execution_count": 34,
   "id": "47970eb5-3770-40ed-8bd1-0bfb349e0407",
   "metadata": {},
   "outputs": [
    {
     "data": {
      "text/plain": [
       "(8000, 128)"
      ]
     },
     "execution_count": 34,
     "metadata": {},
     "output_type": "execute_result"
    }
   ],
   "source": [
    "X_train.shape"
   ]
  },
  {
   "cell_type": "code",
   "execution_count": 35,
   "id": "27154581-f817-4c8e-b337-4585364182e5",
   "metadata": {},
   "outputs": [
    {
     "data": {
      "text/plain": [
       "(8000,)"
      ]
     },
     "execution_count": 35,
     "metadata": {},
     "output_type": "execute_result"
    }
   ],
   "source": [
    "y_train.shape"
   ]
  },
  {
   "cell_type": "code",
   "execution_count": 36,
   "id": "c36a1ef3-eb5e-4e5f-8a24-62057f3b9190",
   "metadata": {},
   "outputs": [
    {
     "name": "stdout",
     "output_type": "stream",
     "text": [
      "Epoch 1/10\n"
     ]
    },
    {
     "name": "stderr",
     "output_type": "stream",
     "text": [
      "2024-10-20 17:22:26.979221: I tensorflow/core/grappler/optimizers/custom_graph_optimizer_registry.cc:114] Plugin optimizer for device_type GPU is enabled.\n",
      "2024-10-20 17:22:27.140900: I tensorflow/core/grappler/optimizers/custom_graph_optimizer_registry.cc:114] Plugin optimizer for device_type GPU is enabled.\n",
      "2024-10-20 17:22:27.215125: I tensorflow/core/grappler/optimizers/custom_graph_optimizer_registry.cc:114] Plugin optimizer for device_type GPU is enabled.\n",
      "2024-10-20 17:22:27.357815: I tensorflow/core/grappler/optimizers/custom_graph_optimizer_registry.cc:114] Plugin optimizer for device_type GPU is enabled.\n"
     ]
    },
    {
     "name": "stdout",
     "output_type": "stream",
     "text": [
      "  3/200 [..............................] - ETA: 7s - loss: 0.6936 - accuracy: 0.5312  "
     ]
    },
    {
     "name": "stderr",
     "output_type": "stream",
     "text": [
      "2024-10-20 17:22:27.456901: I tensorflow/core/grappler/optimizers/custom_graph_optimizer_registry.cc:114] Plugin optimizer for device_type GPU is enabled.\n"
     ]
    },
    {
     "name": "stdout",
     "output_type": "stream",
     "text": [
      "199/200 [============================>.] - ETA: 0s - loss: 0.5069 - accuracy: 0.7522"
     ]
    },
    {
     "name": "stderr",
     "output_type": "stream",
     "text": [
      "2024-10-20 17:22:33.713640: I tensorflow/core/grappler/optimizers/custom_graph_optimizer_registry.cc:114] Plugin optimizer for device_type GPU is enabled.\n",
      "2024-10-20 17:22:33.768899: I tensorflow/core/grappler/optimizers/custom_graph_optimizer_registry.cc:114] Plugin optimizer for device_type GPU is enabled.\n",
      "2024-10-20 17:22:33.805002: I tensorflow/core/grappler/optimizers/custom_graph_optimizer_registry.cc:114] Plugin optimizer for device_type GPU is enabled.\n"
     ]
    },
    {
     "name": "stdout",
     "output_type": "stream",
     "text": [
      "200/200 [==============================] - 8s 35ms/step - loss: 0.5069 - accuracy: 0.7522 - val_loss: 0.3939 - val_accuracy: 0.8338\n",
      "Epoch 2/10\n",
      "200/200 [==============================] - 6s 31ms/step - loss: 0.2652 - accuracy: 0.8958 - val_loss: 0.3645 - val_accuracy: 0.8413\n",
      "Epoch 3/10\n",
      "200/200 [==============================] - 6s 30ms/step - loss: 0.1722 - accuracy: 0.9377 - val_loss: 0.4661 - val_accuracy: 0.8344\n",
      "Epoch 4/10\n",
      "200/200 [==============================] - 6s 30ms/step - loss: 0.1212 - accuracy: 0.9580 - val_loss: 0.4847 - val_accuracy: 0.8213\n",
      "Epoch 5/10\n",
      "200/200 [==============================] - 6s 30ms/step - loss: 0.1025 - accuracy: 0.9653 - val_loss: 0.7082 - val_accuracy: 0.8075\n",
      "Epoch 6/10\n",
      "200/200 [==============================] - 6s 30ms/step - loss: 0.0763 - accuracy: 0.9750 - val_loss: 0.8541 - val_accuracy: 0.8031\n",
      "Epoch 7/10\n",
      "200/200 [==============================] - 6s 30ms/step - loss: 0.0585 - accuracy: 0.9802 - val_loss: 0.7018 - val_accuracy: 0.8031\n",
      "Epoch 8/10\n",
      "200/200 [==============================] - 6s 30ms/step - loss: 0.0297 - accuracy: 0.9909 - val_loss: 1.0677 - val_accuracy: 0.8144\n",
      "Epoch 9/10\n",
      "200/200 [==============================] - 6s 30ms/step - loss: 0.0222 - accuracy: 0.9934 - val_loss: 1.0416 - val_accuracy: 0.8069\n",
      "Epoch 10/10\n",
      "200/200 [==============================] - 6s 30ms/step - loss: 0.0250 - accuracy: 0.9928 - val_loss: 1.1016 - val_accuracy: 0.8213\n"
     ]
    },
    {
     "data": {
      "text/plain": [
       "<keras.src.callbacks.History at 0x1735a69a0>"
      ]
     },
     "execution_count": 36,
     "metadata": {},
     "output_type": "execute_result"
    }
   ],
   "source": [
    "model.fit(X_train, y_train, epochs=10, validation_split = 0.2)"
   ]
  },
  {
   "cell_type": "code",
   "execution_count": 37,
   "id": "5673400b-6ae2-4737-b9ec-becca1532b0a",
   "metadata": {},
   "outputs": [
    {
     "name": "stdout",
     "output_type": "stream",
     "text": [
      " 1/63 [..............................] - ETA: 21s"
     ]
    },
    {
     "name": "stderr",
     "output_type": "stream",
     "text": [
      "2024-10-20 17:23:58.589227: I tensorflow/core/grappler/optimizers/custom_graph_optimizer_registry.cc:114] Plugin optimizer for device_type GPU is enabled.\n",
      "2024-10-20 17:23:58.641640: I tensorflow/core/grappler/optimizers/custom_graph_optimizer_registry.cc:114] Plugin optimizer for device_type GPU is enabled.\n",
      "2024-10-20 17:23:58.702221: I tensorflow/core/grappler/optimizers/custom_graph_optimizer_registry.cc:114] Plugin optimizer for device_type GPU is enabled.\n"
     ]
    },
    {
     "name": "stdout",
     "output_type": "stream",
     "text": [
      "63/63 [==============================] - 1s 13ms/step\n"
     ]
    }
   ],
   "source": [
    "y_pred = model.predict(X_test)"
   ]
  },
  {
   "cell_type": "code",
   "execution_count": 40,
   "id": "6b124d0e-8043-4ae0-be3e-1374c56501a9",
   "metadata": {},
   "outputs": [],
   "source": [
    "y_pred1 = (y_pred >= 0.5).astype(int)\n"
   ]
  },
  {
   "cell_type": "code",
   "execution_count": 43,
   "id": "531586ea-41ab-4f6b-8df8-37329ffc1904",
   "metadata": {},
   "outputs": [
    {
     "data": {
      "text/plain": [
       "26009    1\n",
       "8850     1\n",
       "21196    0\n",
       "49539    0\n",
       "16970    0\n",
       "        ..\n",
       "44362    0\n",
       "41687    1\n",
       "43714    1\n",
       "47770    0\n",
       "43028    1\n",
       "Name: sentiment, Length: 2000, dtype: int64"
      ]
     },
     "execution_count": 43,
     "metadata": {},
     "output_type": "execute_result"
    }
   ],
   "source": [
    "y_test"
   ]
  },
  {
   "cell_type": "code",
   "execution_count": 41,
   "id": "09780381-1c5d-4b3c-84e5-ab6cac6e68bf",
   "metadata": {},
   "outputs": [
    {
     "data": {
      "text/plain": [
       "array([[1],\n",
       "       [1],\n",
       "       [0],\n",
       "       ...,\n",
       "       [0],\n",
       "       [0],\n",
       "       [1]])"
      ]
     },
     "execution_count": 41,
     "metadata": {},
     "output_type": "execute_result"
    }
   ],
   "source": [
    "y_pred1"
   ]
  },
  {
   "cell_type": "code",
   "execution_count": 38,
   "id": "7e767dc2-8e10-4be3-ab34-5d63ce8d06bd",
   "metadata": {},
   "outputs": [],
   "source": [
    "from sklearn.metrics import confusion_matrix, classification_report, accuracy_score"
   ]
  },
  {
   "cell_type": "code",
   "execution_count": 44,
   "id": "0771f004-9fea-49e0-940d-ce9e608ee9c8",
   "metadata": {},
   "outputs": [
    {
     "data": {
      "text/plain": [
       "0.8305"
      ]
     },
     "execution_count": 44,
     "metadata": {},
     "output_type": "execute_result"
    }
   ],
   "source": [
    "accuracy_score(y_test, y_pred1)"
   ]
  },
  {
   "cell_type": "code",
   "execution_count": 45,
   "id": "9367939c-d3a4-4e5c-9ae9-9f52ea17bb23",
   "metadata": {},
   "outputs": [
    {
     "data": {
      "image/png": "[encoded data removed]",
      "text/plain": [
       "<Figure size 1000x800 with 2 Axes>"
      ]
     },
     "metadata": {},
     "output_type": "display_data"
    }
   ],
   "source": [
    "plt.figure(figsize = (10,8))\n",
    "sns.heatmap(confusion_matrix(y_test, y_pred1), annot = True, fmt = 'd')\n",
    "plt.show()"
   ]
  },
  {
   "cell_type": "code",
   "execution_count": 46,
   "id": "d847099a-d72f-40b9-a847-f611620cfac0",
   "metadata": {},
   "outputs": [
    {
     "name": "stdout",
     "output_type": "stream",
     "text": [
      "              precision    recall  f1-score   support\n",
      "\n",
      "           0       0.84      0.81      0.83       997\n",
      "           1       0.82      0.85      0.83      1003\n",
      "\n",
      "    accuracy                           0.83      2000\n",
      "   macro avg       0.83      0.83      0.83      2000\n",
      "weighted avg       0.83      0.83      0.83      2000\n",
      "\n"
     ]
    }
   ],
   "source": [
    "print(classification_report(y_test, y_pred1))"
   ]
  },
  {
   "cell_type": "markdown",
   "id": "42814d23-286b-481f-a2a4-20015ae6800b",
   "metadata": {},
   "source": [
    "<div align=\"center\">\n",
    "  <style>\n",
    "    .wiggly-line {\n",
    "      width: 100%;\n",
    "      height: 5px;\n",
    "      background: linear-gradient(270deg, #ff0000, #ff7300, #ffec00, #00ff00, #00ffe8, #0070ff, #6b00ff, #ff00f4, #ff0000);\n",
    "      background-size: 400% 100%;\n",
    "      animation: glitter 1.5s linear infinite;\n",
    "    }\n",
    "\n",
    "    @keyframes glitter {\n",
    "      0% { background-position: 0% 50%; }\n",
    "      50% { background-position: 100% 50%; }\n",
    "      100% { background-position: 0% 50%; }\n",
    "    }\n",
    "  </style>\n",
    "  \n",
    "  <div class=\"wiggly-line\"></div>\n",
    "  \n",
    "  <p style=\"font-size: 1.5em; font-weight: bold; color: #ff00ff;\">✨ Thank You for Exploring the Project! ✨</p>\n",
    "  \n",
    "  <div class=\"wiggly-line\"></div>\n",
    "</div>"
   ]
  },
  {
   "cell_type": "code",
   "execution_count": null,
   "id": "ef329b53-a98a-4b3f-9e5d-258a2370b04d",
   "metadata": {},
   "outputs": [],
   "source": []
  }
 ],
 "metadata": {
  "kernelspec": {
   "display_name": "Python 3 (ipykernel)",
   "language": "python",
   "name": "python3"
  },
  "language_info": {
   "codemirror_mode": {
    "name": "ipython",
    "version": 3
   },
   "file_extension": ".py",
   "mimetype": "text/x-python",
   "name": "python",
   "nbconvert_exporter": "python",
   "pygments_lexer": "ipython3",
   "version": "3.8.18"
  }
 },
 "nbformat": 4,
 "nbformat_minor": 5
}
